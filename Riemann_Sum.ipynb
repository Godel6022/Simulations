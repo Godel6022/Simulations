{
  "nbformat": 4,
  "nbformat_minor": 0,
  "metadata": {
    "colab": {
      "name": "Riemann Sum.ipynb",
      "provenance": [],
      "collapsed_sections": [
        "cL2y8TAYODiD"
      ]
    },
    "kernelspec": {
      "name": "python3",
      "display_name": "Python 3"
    },
    "language_info": {
      "name": "python"
    }
  },
  "cells": [
    {
      "cell_type": "markdown",
      "metadata": {
        "id": "UbXckrBaN-oz"
      },
      "source": [
        "# Riemann Sum Simulaltion"
      ]
    },
    {
      "cell_type": "markdown",
      "metadata": {
        "id": "cL2y8TAYODiD"
      },
      "source": [
        "## Prerequisite\n",
        "\n",
        "To run the simulation, please run the code below.\n",
        "\n",
        "You might see that as \"*1 cell hidden*.\" Just press the run button.\n",
        "\n",
        "At first, it takes some time to initialize the environment."
      ]
    },
    {
      "cell_type": "code",
      "metadata": {
        "id": "9_J2_g0l4vqb"
      },
      "source": [
        "import numpy as np\n",
        "import matplotlib.pyplot as plt\n",
        "import matplotlib.patches as patches\n",
        "\n",
        "class RiemannSum :\n",
        "  def __init__(self, func, step, xlim, linetype = 'r-', show_dots = True) :\n",
        "    X = np.linspace(xlim[0], xlim[1], 10000)\n",
        "    Xs = np.arange(xlim[0], xlim[1] + 0.0001, step)\n",
        "\n",
        "    fig = plt.figure(figsize = (20, 5))\n",
        "\n",
        "    ax1 = fig.add_subplot(141)\n",
        "    ax1.plot(X, func(X), linetype)\n",
        "    self.Right_Riemann(Xs, func(Xs), step, ax1, show_dots)\n",
        "    ax1.set_title('Right Riemann Sum')\n",
        "    ax1.use_sticky_edges = False\n",
        "\n",
        "    ax2 = fig.add_subplot(142)\n",
        "    ax2.plot(X, func(X), linetype)\n",
        "    self.Left_Riemann(Xs, func(Xs), step, ax2, show_dots)\n",
        "    ax2.set_title('Left Riemann Sum')\n",
        "    ax2.use_sticky_edges = False\n",
        "\n",
        "    ax3 = fig.add_subplot(143)\n",
        "    ax3.plot(X, func(X), linetype)\n",
        "    self.Mid_Riemann(Xs + step/2, func(Xs + step/2), step, ax3, show_dots)\n",
        "    ax3.set_title('Midpoint Riemann Sum')\n",
        "    ax3.use_sticky_edges = False\n",
        "\n",
        "    ax4 = fig.add_subplot(144)\n",
        "    ax4.plot(X, func(X), linetype)\n",
        "    self.Trap_Riemann(Xs, func(Xs), step, ax4, show_dots)\n",
        "    ax4.set_title('Trapezoidal Riemann Sum')\n",
        "\n",
        "  def Right_Riemann(self, X, Y, step, plot, show_dots) :\n",
        "    if show_dots :\n",
        "      plot.plot(X[1:], Y[1:], 'b.', markersize = 10)\n",
        "    plot.bar(X[1:] - step/2, Y[1:], color = 'b', width = step, alpha = 0.2, edgecolor = 'b')\n",
        "\n",
        "  def Left_Riemann(self, X, Y, step, plot, show_dots) :\n",
        "    if show_dots :\n",
        "      plot.plot(X[:-1], Y[:-1], 'b.', markersize = 10)\n",
        "    plot.bar(X[:-1] + step/2, Y[:-1], color = 'b', width = step, alpha = 0.2, edgecolor = 'b')\n",
        "  \n",
        "  def Mid_Riemann(self, X, Y, step, plot, show_dots) :\n",
        "    if show_dots :\n",
        "      plot.plot(X[:-1], Y[:-1], 'b.', markersize = 10)\n",
        "    plot.bar(X[:-1], Y[:-1], color = 'b', width = step, alpha = 0.2, edgecolor = 'b')\n",
        "  \n",
        "  def Trap_Riemann(self, X, Y, step, plot, show_dots) :\n",
        "    if show_dots :\n",
        "      plot.plot(X, Y, 'b.', markersize = 10)\n",
        "    for i in range(len(X)-1) :\n",
        "      Xs = [X[i], X[i+1], X[i+1], X[i]]\n",
        "      Ys = [0, 0, Y[i+1], Y[i]]\n",
        "      plot.add_patch(patches.Polygon(xy = list(zip(Xs, Ys)), color = 'b', alpha = 0.2))"
      ],
      "execution_count": 111,
      "outputs": []
    },
    {
      "cell_type": "markdown",
      "metadata": {
        "id": "2Qy0t8ocOIMB"
      },
      "source": [
        "## Simulation\n",
        "\n",
        "Inside the function **RiemannSum()**, you should input function, step size $h$, and $x$ range.\n",
        "```python\n",
        "RiemannSum(<function>, <step>, <x_range>, ...)\n",
        "```\n",
        "\n",
        "\\\n",
        "The function should be in the form of **lambda function**,\n",
        "```python\n",
        "lambda <variable>: <function>\n",
        "```\n",
        "For the special functions, check this [NumPy document](https://numpy.org/doc/stable/reference/routines.math.html).\n",
        "\n",
        "\\\n",
        "These are some extra modifications you can make :\n",
        "- linetype: changes [type](https://www.mathworks.com/help/matlab/ref/linespec.html) of graph line (default: 'r--') \n",
        "- show_dots: determine whether to show markers (default: True)\n"
      ]
    },
    {
      "cell_type": "code",
      "metadata": {
        "id": "Nmify98g8Fls"
      },
      "source": [
        "RiemannSum(lambda x: np.sin(x), 0.5, [2, 10], linetype = 'r--', show_dots = False)"
      ],
      "execution_count": null,
      "outputs": []
    }
  ]
}